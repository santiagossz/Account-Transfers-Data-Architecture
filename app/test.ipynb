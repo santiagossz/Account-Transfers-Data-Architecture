{
 "cells": [
  {
   "cell_type": "code",
   "execution_count": 1,
   "metadata": {},
   "outputs": [],
   "source": [
    "import plotly.express as px\n",
    "import plotly.graph_objects as go\n",
    "from api.api import API\n",
    "api = API('')\n",
    "df=api.reports('SELECT * FROM PIX_MOVEMENTS',False)"
   ]
  },
  {
   "cell_type": "code",
   "execution_count": 10,
   "metadata": {},
   "outputs": [],
   "source": [
    "from plotly.subplots import make_subplots"
   ]
  },
  {
   "cell_type": "code",
   "execution_count": 6,
   "metadata": {},
   "outputs": [],
   "source": [
    "total=df.groupby('status')['pix_amount'].count()\n",
    "status=df.groupby(['status','in_or_out'])['id'].count()"
   ]
  },
  {
   "cell_type": "code",
   "execution_count": 40,
   "metadata": {},
   "outputs": [],
   "source": [
    "# fig = make_subplots(rows=1, cols=2, specs=[[{\"type\": \"pie\"}, {\"type\": \"bar\"}]],\n",
    "#                     subplot_titles=(\"Total Failed vs Total Completed\", \"Total Failed per type of transaction\"))\n",
    "# fig.add_trace(\n",
    "#     go.Pie(labels=total.index, values=total.values,pull=[0, 0.2], domain=dict(x=[0, 0.5])),row=1, col=1\n",
    "# )\n",
    "\n",
    "# fig.add_trace(\n",
    "#     go.Bar(x=status['failed'].index,y=status['failed'].values, showlegend=False),row=1, col=2\n",
    "# )\n",
    "# fig.update_layout(title_text='PIX Transaction Status Metrics 2020', title_x=0.5,\n",
    "#                   legend=dict(x=0,y=0.7))\n",
    "# [fig.layout.annotations[i].update(y=1.05) for i in range(2)]\n",
    "# fig\n"
   ]
  },
  {
   "cell_type": "code",
   "execution_count": 42,
   "metadata": {},
   "outputs": [
    {
     "data": {
      "text/html": [
       "<div>\n",
       "<style scoped>\n",
       "    .dataframe tbody tr th:only-of-type {\n",
       "        vertical-align: middle;\n",
       "    }\n",
       "\n",
       "    .dataframe tbody tr th {\n",
       "        vertical-align: top;\n",
       "    }\n",
       "\n",
       "    .dataframe thead th {\n",
       "        text-align: right;\n",
       "    }\n",
       "</style>\n",
       "<table border=\"1\" class=\"dataframe\">\n",
       "  <thead>\n",
       "    <tr style=\"text-align: right;\">\n",
       "      <th></th>\n",
       "      <th>id</th>\n",
       "      <th>account_id</th>\n",
       "      <th>in_or_out</th>\n",
       "      <th>pix_amount</th>\n",
       "      <th>pix_requested_at</th>\n",
       "      <th>pix_completed_at</th>\n",
       "      <th>status</th>\n",
       "    </tr>\n",
       "  </thead>\n",
       "  <tbody>\n",
       "    <tr>\n",
       "      <th>0</th>\n",
       "      <td>13629077-0946-8179-9680-000000000000</td>\n",
       "      <td>50928183-6645-3152-6400-000000000000</td>\n",
       "      <td>pix_out</td>\n",
       "      <td>1894.77</td>\n",
       "      <td>1579693633580</td>\n",
       "      <td>1.579694e+12</td>\n",
       "      <td>completed</td>\n",
       "    </tr>\n",
       "    <tr>\n",
       "      <th>1</th>\n",
       "      <td>22467941-1802-2659-0720-000000000000</td>\n",
       "      <td>50928183-6645-3152-6400-000000000000</td>\n",
       "      <td>pix_out</td>\n",
       "      <td>419.79</td>\n",
       "      <td>1587309244550</td>\n",
       "      <td>1.587309e+12</td>\n",
       "      <td>completed</td>\n",
       "    </tr>\n",
       "    <tr>\n",
       "      <th>2</th>\n",
       "      <td>16569602-6045-6373-7600-000000000000</td>\n",
       "      <td>50928183-6645-3152-6400-000000000000</td>\n",
       "      <td>pix_in</td>\n",
       "      <td>943.61</td>\n",
       "      <td>1609306218320</td>\n",
       "      <td>1.609306e+12</td>\n",
       "      <td>completed</td>\n",
       "    </tr>\n",
       "    <tr>\n",
       "      <th>3</th>\n",
       "      <td>91954593-2589-0464-0000-000000000000</td>\n",
       "      <td>50928183-6645-3152-6400-000000000000</td>\n",
       "      <td>pix_in</td>\n",
       "      <td>124.66</td>\n",
       "      <td>1586015734430</td>\n",
       "      <td>1.586016e+12</td>\n",
       "      <td>completed</td>\n",
       "    </tr>\n",
       "    <tr>\n",
       "      <th>4</th>\n",
       "      <td>20012121-4224-0523-0080-000000000000</td>\n",
       "      <td>50928183-6645-3152-6400-000000000000</td>\n",
       "      <td>pix_out</td>\n",
       "      <td>775.96</td>\n",
       "      <td>1590974667000</td>\n",
       "      <td>1.590975e+12</td>\n",
       "      <td>completed</td>\n",
       "    </tr>\n",
       "    <tr>\n",
       "      <th>...</th>\n",
       "      <td>...</td>\n",
       "      <td>...</td>\n",
       "      <td>...</td>\n",
       "      <td>...</td>\n",
       "      <td>...</td>\n",
       "      <td>...</td>\n",
       "      <td>...</td>\n",
       "    </tr>\n",
       "    <tr>\n",
       "      <th>249877</th>\n",
       "      <td>22684146-9023-7561-3440-000000000000</td>\n",
       "      <td>67496194-7612-9720-3200-000000000000</td>\n",
       "      <td>pix_out</td>\n",
       "      <td>1596.65</td>\n",
       "      <td>1579357052400</td>\n",
       "      <td>1.579357e+12</td>\n",
       "      <td>completed</td>\n",
       "    </tr>\n",
       "    <tr>\n",
       "      <th>249878</th>\n",
       "      <td>31521285-1824-8888-3200-000000000000</td>\n",
       "      <td>67496194-7612-9720-3200-000000000000</td>\n",
       "      <td>pix_out</td>\n",
       "      <td>453.79</td>\n",
       "      <td>1581142919280</td>\n",
       "      <td>1.581143e+12</td>\n",
       "      <td>completed</td>\n",
       "    </tr>\n",
       "    <tr>\n",
       "      <th>249879</th>\n",
       "      <td>18005771-4051-6179-9680-000000000000</td>\n",
       "      <td>67496194-7612-9720-3200-000000000000</td>\n",
       "      <td>pix_out</td>\n",
       "      <td>45.89</td>\n",
       "      <td>1608954790060</td>\n",
       "      <td>1.608955e+12</td>\n",
       "      <td>completed</td>\n",
       "    </tr>\n",
       "    <tr>\n",
       "      <th>249880</th>\n",
       "      <td>16081458-3687-7373-1200-000000000000</td>\n",
       "      <td>67496194-7612-9720-3200-000000000000</td>\n",
       "      <td>pix_in</td>\n",
       "      <td>1165.90</td>\n",
       "      <td>1598609653080</td>\n",
       "      <td>1.598610e+12</td>\n",
       "      <td>completed</td>\n",
       "    </tr>\n",
       "    <tr>\n",
       "      <th>249881</th>\n",
       "      <td>50609075-6210-0484-4800-000000000000</td>\n",
       "      <td>67496194-7612-9720-3200-000000000000</td>\n",
       "      <td>pix_out</td>\n",
       "      <td>527.48</td>\n",
       "      <td>1580839667540</td>\n",
       "      <td>1.580840e+12</td>\n",
       "      <td>completed</td>\n",
       "    </tr>\n",
       "  </tbody>\n",
       "</table>\n",
       "<p>249882 rows × 7 columns</p>\n",
       "</div>"
      ],
      "text/plain": [
       "                                          id  \\\n",
       "0       13629077-0946-8179-9680-000000000000   \n",
       "1       22467941-1802-2659-0720-000000000000   \n",
       "2       16569602-6045-6373-7600-000000000000   \n",
       "3       91954593-2589-0464-0000-000000000000   \n",
       "4       20012121-4224-0523-0080-000000000000   \n",
       "...                                      ...   \n",
       "249877  22684146-9023-7561-3440-000000000000   \n",
       "249878  31521285-1824-8888-3200-000000000000   \n",
       "249879  18005771-4051-6179-9680-000000000000   \n",
       "249880  16081458-3687-7373-1200-000000000000   \n",
       "249881  50609075-6210-0484-4800-000000000000   \n",
       "\n",
       "                                  account_id in_or_out  pix_amount  \\\n",
       "0       50928183-6645-3152-6400-000000000000   pix_out     1894.77   \n",
       "1       50928183-6645-3152-6400-000000000000   pix_out      419.79   \n",
       "2       50928183-6645-3152-6400-000000000000    pix_in      943.61   \n",
       "3       50928183-6645-3152-6400-000000000000    pix_in      124.66   \n",
       "4       50928183-6645-3152-6400-000000000000   pix_out      775.96   \n",
       "...                                      ...       ...         ...   \n",
       "249877  67496194-7612-9720-3200-000000000000   pix_out     1596.65   \n",
       "249878  67496194-7612-9720-3200-000000000000   pix_out      453.79   \n",
       "249879  67496194-7612-9720-3200-000000000000   pix_out       45.89   \n",
       "249880  67496194-7612-9720-3200-000000000000    pix_in     1165.90   \n",
       "249881  67496194-7612-9720-3200-000000000000   pix_out      527.48   \n",
       "\n",
       "        pix_requested_at  pix_completed_at     status  \n",
       "0          1579693633580      1.579694e+12  completed  \n",
       "1          1587309244550      1.587309e+12  completed  \n",
       "2          1609306218320      1.609306e+12  completed  \n",
       "3          1586015734430      1.586016e+12  completed  \n",
       "4          1590974667000      1.590975e+12  completed  \n",
       "...                  ...               ...        ...  \n",
       "249877     1579357052400      1.579357e+12  completed  \n",
       "249878     1581142919280      1.581143e+12  completed  \n",
       "249879     1608954790060      1.608955e+12  completed  \n",
       "249880     1598609653080      1.598610e+12  completed  \n",
       "249881     1580839667540      1.580840e+12  completed  \n",
       "\n",
       "[249882 rows x 7 columns]"
      ]
     },
     "execution_count": 42,
     "metadata": {},
     "output_type": "execute_result"
    }
   ],
   "source": [
    "df"
   ]
  },
  {
   "cell_type": "code",
   "execution_count": 79,
   "metadata": {},
   "outputs": [],
   "source": [
    "status_hour=\"\"\"\n",
    "WITH TIME AS (\n",
    "SELECT TIME_ID,\n",
    "(CASE WHEN action_timestamp::timestamp::time<='15:00:00'::time AND action_timestamp::timestamp::time>='09:00:00'::time THEN 'business_hour'\n",
    "ELSE 'non_business_hour' END) IS_BUSINESS_HOUR\n",
    "from d_time\n",
    ")\n",
    "SELECT ACCOUNT_ID,IN_OR_OUT,PIX_AMOUNT,PIX.STATUS,TIME.IS_BUSINESS_HOUR\n",
    "FROM PIX_MOVEMENTS PIX\n",
    "JOIN TIME\n",
    "ON PIX.PIX_REQUESTED_AT=TIME.TIME_ID \n",
    "WHERE STATUS='failed'\n",
    "\"\"\"\n",
    "status_hour_t=\"\"\"\n",
    "WITH TIME AS (\n",
    "SELECT TIME_ID,\n",
    "(CASE WHEN action_timestamp::timestamp::time<='15:00:00'::time AND action_timestamp::timestamp::time>='09:00:00'::time THEN 'business_hour'\n",
    "ELSE 'non_business_hour' END) IS_BUSINESS_HOUR\n",
    "from d_time\n",
    "),\n",
    "T_IN AS (\n",
    "\tSELECT IS_BUSINESS_HOUR,ACCOUNT_ID,AMOUNT,STATUS\n",
    "\tFROM TRANSFER_INS TI\n",
    "\tJOIN TIME\n",
    "\tON TI.TRANSACTION_REQUESTED_AT=TIME.TIME_ID \n",
    "\tWHERE TI.STATUS='failed'\n",
    "\t),\n",
    "\tT_OUT AS (\n",
    "\tSELECT IS_BUSINESS_HOUR,ACCOUNT_ID,AMOUNT,STATUS\n",
    "\tFROM TRANSFER_OUTS TOT\n",
    "\tJOIN TIME\n",
    "\tON TOT.TRANSACTION_REQUESTED_AT=TIME.TIME_ID \n",
    "\tWHERE TOT.STATUS='failed'\n",
    "\t)\n",
    "\n",
    "SELECT *\n",
    "FROM T_IN\n",
    "UNION\n",
    "SELECT * \n",
    "FROM T_OUT\n",
    "\n",
    "\"\"\""
   ]
  },
  {
   "cell_type": "code",
   "execution_count": 80,
   "metadata": {},
   "outputs": [],
   "source": [
    "dfh=api.reports(status_hour,False)\n",
    "dft=api.reports(status_hour_t,False)\n"
   ]
  },
  {
   "cell_type": "code",
   "execution_count": 82,
   "metadata": {},
   "outputs": [
    {
     "data": {
      "text/plain": [
       "non_business_hour    9361\n",
       "business_hour        3238\n",
       "Name: is_business_hour, dtype: int64"
      ]
     },
     "execution_count": 82,
     "metadata": {},
     "output_type": "execute_result"
    }
   ],
   "source": [
    "dfh['is_business_hour'].value_counts()"
   ]
  },
  {
   "cell_type": "code",
   "execution_count": 81,
   "metadata": {},
   "outputs": [
    {
     "data": {
      "text/plain": [
       "non_business_hour    9323\n",
       "business_hour        3038\n",
       "Name: is_business_hour, dtype: int64"
      ]
     },
     "execution_count": 81,
     "metadata": {},
     "output_type": "execute_result"
    }
   ],
   "source": [
    "dft['is_business_hour'].value_counts()"
   ]
  },
  {
   "cell_type": "code",
   "execution_count": 83,
   "metadata": {},
   "outputs": [],
   "source": [
    "a=dfh['is_business_hour'].value_counts()\n",
    "b=dft['is_business_hour'].value_counts()"
   ]
  },
  {
   "cell_type": "code",
   "execution_count": 89,
   "metadata": {},
   "outputs": [
    {
     "data": {
      "application/vnd.plotly.v1+json": {
       "config": {
        "plotlyServerURL": "https://plot.ly"
       },
       "data": [
        {
         "domain": {
          "x": [
           0,
           0.45
          ],
          "y": [
           0,
           1
          ]
         },
         "labels": [
          "non_business_hour",
          "business_hour"
         ],
         "marker": {
          "colors": [
           "rgb(18, 36, 37)",
           "rgb(56, 75, 126)"
          ]
         },
         "pull": [
          0,
          0.2
         ],
         "type": "pie",
         "values": [
          9361,
          3238
         ]
        },
        {
         "domain": {
          "x": [
           0.55,
           1
          ],
          "y": [
           0,
           1
          ]
         },
         "labels": [
          "non_business_hour",
          "business_hour"
         ],
         "pull": [
          0,
          0.2
         ],
         "type": "pie",
         "values": [
          9323,
          3038
         ]
        }
       ],
       "layout": {
        "template": {
         "data": {
          "bar": [
           {
            "error_x": {
             "color": "#2a3f5f"
            },
            "error_y": {
             "color": "#2a3f5f"
            },
            "marker": {
             "line": {
              "color": "#E5ECF6",
              "width": 0.5
             },
             "pattern": {
              "fillmode": "overlay",
              "size": 10,
              "solidity": 0.2
             }
            },
            "type": "bar"
           }
          ],
          "barpolar": [
           {
            "marker": {
             "line": {
              "color": "#E5ECF6",
              "width": 0.5
             },
             "pattern": {
              "fillmode": "overlay",
              "size": 10,
              "solidity": 0.2
             }
            },
            "type": "barpolar"
           }
          ],
          "carpet": [
           {
            "aaxis": {
             "endlinecolor": "#2a3f5f",
             "gridcolor": "white",
             "linecolor": "white",
             "minorgridcolor": "white",
             "startlinecolor": "#2a3f5f"
            },
            "baxis": {
             "endlinecolor": "#2a3f5f",
             "gridcolor": "white",
             "linecolor": "white",
             "minorgridcolor": "white",
             "startlinecolor": "#2a3f5f"
            },
            "type": "carpet"
           }
          ],
          "choropleth": [
           {
            "colorbar": {
             "outlinewidth": 0,
             "ticks": ""
            },
            "type": "choropleth"
           }
          ],
          "contour": [
           {
            "colorbar": {
             "outlinewidth": 0,
             "ticks": ""
            },
            "colorscale": [
             [
              0,
              "#0d0887"
             ],
             [
              0.1111111111111111,
              "#46039f"
             ],
             [
              0.2222222222222222,
              "#7201a8"
             ],
             [
              0.3333333333333333,
              "#9c179e"
             ],
             [
              0.4444444444444444,
              "#bd3786"
             ],
             [
              0.5555555555555556,
              "#d8576b"
             ],
             [
              0.6666666666666666,
              "#ed7953"
             ],
             [
              0.7777777777777778,
              "#fb9f3a"
             ],
             [
              0.8888888888888888,
              "#fdca26"
             ],
             [
              1,
              "#f0f921"
             ]
            ],
            "type": "contour"
           }
          ],
          "contourcarpet": [
           {
            "colorbar": {
             "outlinewidth": 0,
             "ticks": ""
            },
            "type": "contourcarpet"
           }
          ],
          "heatmap": [
           {
            "colorbar": {
             "outlinewidth": 0,
             "ticks": ""
            },
            "colorscale": [
             [
              0,
              "#0d0887"
             ],
             [
              0.1111111111111111,
              "#46039f"
             ],
             [
              0.2222222222222222,
              "#7201a8"
             ],
             [
              0.3333333333333333,
              "#9c179e"
             ],
             [
              0.4444444444444444,
              "#bd3786"
             ],
             [
              0.5555555555555556,
              "#d8576b"
             ],
             [
              0.6666666666666666,
              "#ed7953"
             ],
             [
              0.7777777777777778,
              "#fb9f3a"
             ],
             [
              0.8888888888888888,
              "#fdca26"
             ],
             [
              1,
              "#f0f921"
             ]
            ],
            "type": "heatmap"
           }
          ],
          "heatmapgl": [
           {
            "colorbar": {
             "outlinewidth": 0,
             "ticks": ""
            },
            "colorscale": [
             [
              0,
              "#0d0887"
             ],
             [
              0.1111111111111111,
              "#46039f"
             ],
             [
              0.2222222222222222,
              "#7201a8"
             ],
             [
              0.3333333333333333,
              "#9c179e"
             ],
             [
              0.4444444444444444,
              "#bd3786"
             ],
             [
              0.5555555555555556,
              "#d8576b"
             ],
             [
              0.6666666666666666,
              "#ed7953"
             ],
             [
              0.7777777777777778,
              "#fb9f3a"
             ],
             [
              0.8888888888888888,
              "#fdca26"
             ],
             [
              1,
              "#f0f921"
             ]
            ],
            "type": "heatmapgl"
           }
          ],
          "histogram": [
           {
            "marker": {
             "pattern": {
              "fillmode": "overlay",
              "size": 10,
              "solidity": 0.2
             }
            },
            "type": "histogram"
           }
          ],
          "histogram2d": [
           {
            "colorbar": {
             "outlinewidth": 0,
             "ticks": ""
            },
            "colorscale": [
             [
              0,
              "#0d0887"
             ],
             [
              0.1111111111111111,
              "#46039f"
             ],
             [
              0.2222222222222222,
              "#7201a8"
             ],
             [
              0.3333333333333333,
              "#9c179e"
             ],
             [
              0.4444444444444444,
              "#bd3786"
             ],
             [
              0.5555555555555556,
              "#d8576b"
             ],
             [
              0.6666666666666666,
              "#ed7953"
             ],
             [
              0.7777777777777778,
              "#fb9f3a"
             ],
             [
              0.8888888888888888,
              "#fdca26"
             ],
             [
              1,
              "#f0f921"
             ]
            ],
            "type": "histogram2d"
           }
          ],
          "histogram2dcontour": [
           {
            "colorbar": {
             "outlinewidth": 0,
             "ticks": ""
            },
            "colorscale": [
             [
              0,
              "#0d0887"
             ],
             [
              0.1111111111111111,
              "#46039f"
             ],
             [
              0.2222222222222222,
              "#7201a8"
             ],
             [
              0.3333333333333333,
              "#9c179e"
             ],
             [
              0.4444444444444444,
              "#bd3786"
             ],
             [
              0.5555555555555556,
              "#d8576b"
             ],
             [
              0.6666666666666666,
              "#ed7953"
             ],
             [
              0.7777777777777778,
              "#fb9f3a"
             ],
             [
              0.8888888888888888,
              "#fdca26"
             ],
             [
              1,
              "#f0f921"
             ]
            ],
            "type": "histogram2dcontour"
           }
          ],
          "mesh3d": [
           {
            "colorbar": {
             "outlinewidth": 0,
             "ticks": ""
            },
            "type": "mesh3d"
           }
          ],
          "parcoords": [
           {
            "line": {
             "colorbar": {
              "outlinewidth": 0,
              "ticks": ""
             }
            },
            "type": "parcoords"
           }
          ],
          "pie": [
           {
            "automargin": true,
            "type": "pie"
           }
          ],
          "scatter": [
           {
            "marker": {
             "colorbar": {
              "outlinewidth": 0,
              "ticks": ""
             }
            },
            "type": "scatter"
           }
          ],
          "scatter3d": [
           {
            "line": {
             "colorbar": {
              "outlinewidth": 0,
              "ticks": ""
             }
            },
            "marker": {
             "colorbar": {
              "outlinewidth": 0,
              "ticks": ""
             }
            },
            "type": "scatter3d"
           }
          ],
          "scattercarpet": [
           {
            "marker": {
             "colorbar": {
              "outlinewidth": 0,
              "ticks": ""
             }
            },
            "type": "scattercarpet"
           }
          ],
          "scattergeo": [
           {
            "marker": {
             "colorbar": {
              "outlinewidth": 0,
              "ticks": ""
             }
            },
            "type": "scattergeo"
           }
          ],
          "scattergl": [
           {
            "marker": {
             "colorbar": {
              "outlinewidth": 0,
              "ticks": ""
             }
            },
            "type": "scattergl"
           }
          ],
          "scattermapbox": [
           {
            "marker": {
             "colorbar": {
              "outlinewidth": 0,
              "ticks": ""
             }
            },
            "type": "scattermapbox"
           }
          ],
          "scatterpolar": [
           {
            "marker": {
             "colorbar": {
              "outlinewidth": 0,
              "ticks": ""
             }
            },
            "type": "scatterpolar"
           }
          ],
          "scatterpolargl": [
           {
            "marker": {
             "colorbar": {
              "outlinewidth": 0,
              "ticks": ""
             }
            },
            "type": "scatterpolargl"
           }
          ],
          "scatterternary": [
           {
            "marker": {
             "colorbar": {
              "outlinewidth": 0,
              "ticks": ""
             }
            },
            "type": "scatterternary"
           }
          ],
          "surface": [
           {
            "colorbar": {
             "outlinewidth": 0,
             "ticks": ""
            },
            "colorscale": [
             [
              0,
              "#0d0887"
             ],
             [
              0.1111111111111111,
              "#46039f"
             ],
             [
              0.2222222222222222,
              "#7201a8"
             ],
             [
              0.3333333333333333,
              "#9c179e"
             ],
             [
              0.4444444444444444,
              "#bd3786"
             ],
             [
              0.5555555555555556,
              "#d8576b"
             ],
             [
              0.6666666666666666,
              "#ed7953"
             ],
             [
              0.7777777777777778,
              "#fb9f3a"
             ],
             [
              0.8888888888888888,
              "#fdca26"
             ],
             [
              1,
              "#f0f921"
             ]
            ],
            "type": "surface"
           }
          ],
          "table": [
           {
            "cells": {
             "fill": {
              "color": "#EBF0F8"
             },
             "line": {
              "color": "white"
             }
            },
            "header": {
             "fill": {
              "color": "#C8D4E3"
             },
             "line": {
              "color": "white"
             }
            },
            "type": "table"
           }
          ]
         },
         "layout": {
          "annotationdefaults": {
           "arrowcolor": "#2a3f5f",
           "arrowhead": 0,
           "arrowwidth": 1
          },
          "autotypenumbers": "strict",
          "coloraxis": {
           "colorbar": {
            "outlinewidth": 0,
            "ticks": ""
           }
          },
          "colorscale": {
           "diverging": [
            [
             0,
             "#8e0152"
            ],
            [
             0.1,
             "#c51b7d"
            ],
            [
             0.2,
             "#de77ae"
            ],
            [
             0.3,
             "#f1b6da"
            ],
            [
             0.4,
             "#fde0ef"
            ],
            [
             0.5,
             "#f7f7f7"
            ],
            [
             0.6,
             "#e6f5d0"
            ],
            [
             0.7,
             "#b8e186"
            ],
            [
             0.8,
             "#7fbc41"
            ],
            [
             0.9,
             "#4d9221"
            ],
            [
             1,
             "#276419"
            ]
           ],
           "sequential": [
            [
             0,
             "#0d0887"
            ],
            [
             0.1111111111111111,
             "#46039f"
            ],
            [
             0.2222222222222222,
             "#7201a8"
            ],
            [
             0.3333333333333333,
             "#9c179e"
            ],
            [
             0.4444444444444444,
             "#bd3786"
            ],
            [
             0.5555555555555556,
             "#d8576b"
            ],
            [
             0.6666666666666666,
             "#ed7953"
            ],
            [
             0.7777777777777778,
             "#fb9f3a"
            ],
            [
             0.8888888888888888,
             "#fdca26"
            ],
            [
             1,
             "#f0f921"
            ]
           ],
           "sequentialminus": [
            [
             0,
             "#0d0887"
            ],
            [
             0.1111111111111111,
             "#46039f"
            ],
            [
             0.2222222222222222,
             "#7201a8"
            ],
            [
             0.3333333333333333,
             "#9c179e"
            ],
            [
             0.4444444444444444,
             "#bd3786"
            ],
            [
             0.5555555555555556,
             "#d8576b"
            ],
            [
             0.6666666666666666,
             "#ed7953"
            ],
            [
             0.7777777777777778,
             "#fb9f3a"
            ],
            [
             0.8888888888888888,
             "#fdca26"
            ],
            [
             1,
             "#f0f921"
            ]
           ]
          },
          "colorway": [
           "#636efa",
           "#EF553B",
           "#00cc96",
           "#ab63fa",
           "#FFA15A",
           "#19d3f3",
           "#FF6692",
           "#B6E880",
           "#FF97FF",
           "#FECB52"
          ],
          "font": {
           "color": "#2a3f5f"
          },
          "geo": {
           "bgcolor": "white",
           "lakecolor": "white",
           "landcolor": "#E5ECF6",
           "showlakes": true,
           "showland": true,
           "subunitcolor": "white"
          },
          "hoverlabel": {
           "align": "left"
          },
          "hovermode": "closest",
          "mapbox": {
           "style": "light"
          },
          "paper_bgcolor": "white",
          "plot_bgcolor": "#E5ECF6",
          "polar": {
           "angularaxis": {
            "gridcolor": "white",
            "linecolor": "white",
            "ticks": ""
           },
           "bgcolor": "#E5ECF6",
           "radialaxis": {
            "gridcolor": "white",
            "linecolor": "white",
            "ticks": ""
           }
          },
          "scene": {
           "xaxis": {
            "backgroundcolor": "#E5ECF6",
            "gridcolor": "white",
            "gridwidth": 2,
            "linecolor": "white",
            "showbackground": true,
            "ticks": "",
            "zerolinecolor": "white"
           },
           "yaxis": {
            "backgroundcolor": "#E5ECF6",
            "gridcolor": "white",
            "gridwidth": 2,
            "linecolor": "white",
            "showbackground": true,
            "ticks": "",
            "zerolinecolor": "white"
           },
           "zaxis": {
            "backgroundcolor": "#E5ECF6",
            "gridcolor": "white",
            "gridwidth": 2,
            "linecolor": "white",
            "showbackground": true,
            "ticks": "",
            "zerolinecolor": "white"
           }
          },
          "shapedefaults": {
           "line": {
            "color": "#2a3f5f"
           }
          },
          "ternary": {
           "aaxis": {
            "gridcolor": "white",
            "linecolor": "white",
            "ticks": ""
           },
           "baxis": {
            "gridcolor": "white",
            "linecolor": "white",
            "ticks": ""
           },
           "bgcolor": "#E5ECF6",
           "caxis": {
            "gridcolor": "white",
            "linecolor": "white",
            "ticks": ""
           }
          },
          "title": {
           "x": 0.05
          },
          "xaxis": {
           "automargin": true,
           "gridcolor": "white",
           "linecolor": "white",
           "ticks": "",
           "title": {
            "standoff": 15
           },
           "zerolinecolor": "white",
           "zerolinewidth": 2
          },
          "yaxis": {
           "automargin": true,
           "gridcolor": "white",
           "linecolor": "white",
           "ticks": "",
           "title": {
            "standoff": 15
           },
           "zerolinecolor": "white",
           "zerolinewidth": 2
          }
         }
        }
       }
      }
     },
     "metadata": {},
     "output_type": "display_data"
    }
   ],
   "source": [
    "fig = make_subplots(rows=1, cols=2, specs=[[{'type':'domain'}, {'type':'domain'}]])\n",
    "colors=['rgb(18, 36, 37)','rgb(56, 75, 126)' ]\n",
    "fig.add_trace(go.Pie(labels=a.index, values=a.values,pull=[0, 0.2], marker_colors=colors),\n",
    "              1, 1)\n",
    "fig.add_trace(go.Pie(labels=b.index, values=b.values,pull=[0, 0.2]),\n",
    "              1, 2)\n"
   ]
  },
  {
   "cell_type": "code",
   "execution_count": null,
   "metadata": {},
   "outputs": [],
   "source": []
  }
 ],
 "metadata": {
  "interpreter": {
   "hash": "b629877e62bae3b7d9decfefa4e93cf9f9c949e0b8f7d98fece3734f21e166e8"
  },
  "kernelspec": {
   "display_name": "Python 3.7.10 64-bit ('DS': conda)",
   "language": "python",
   "name": "python3"
  },
  "language_info": {
   "codemirror_mode": {
    "name": "ipython",
    "version": 3
   },
   "file_extension": ".py",
   "mimetype": "text/x-python",
   "name": "python",
   "nbconvert_exporter": "python",
   "pygments_lexer": "ipython3",
   "version": "3.7.10"
  },
  "orig_nbformat": 4
 },
 "nbformat": 4,
 "nbformat_minor": 2
}
